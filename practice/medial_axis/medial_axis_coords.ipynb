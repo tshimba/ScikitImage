{
 "cells": [
  {
   "cell_type": "markdown",
   "metadata": {},
   "source": [
    "### Algorithm\n",
    "1. Start座標, Goal座標決定\n",
    "1. Start座標をMedial axis座標リストに追加、Start座標をCurrent座標とする\n",
    "1. カCurrent座標がGoal座標かどうか判定 -> Goal座標であれば終了\n",
    "1. Start座標の周り8ピクセル走査、True且つ前のCurrent座標ではない座標を新しいCurrent座標にする\n",
    "1. Current座標をMedial axis座標リストに追加\n",
    "\n",
    "上記繰り返す\n",
    "\n",
    "※まだ画像の縁などの判定をしていない"
   ]
  },
  {
   "cell_type": "code",
   "execution_count": 1,
   "metadata": {
    "collapsed": true
   },
   "outputs": [],
   "source": [
    "%matplotlib inline\n",
    "import numpy as np\n",
    "from skimage.morphology import medial_axis\n",
    "import matplotlib.pyplot as plt"
   ]
  },
  {
   "cell_type": "code",
   "execution_count": 2,
   "metadata": {
    "collapsed": true
   },
   "outputs": [],
   "source": [
    "# 2値画像読み込み\n",
    "from PIL import Image\n",
    "\n",
    "def load_bool_image(fname='./onestroke.png'):\n",
    "    im = Image.open(fname)\n",
    "    gray_im = im.convert('L')\n",
    "    \n",
    "    arr = np.asarray(gray_im)\n",
    "    arr.flags.writeable = True\n",
    "    arr[arr!=255]=True\n",
    "    arr[arr==255]=False\n",
    "\n",
    "    return arr.astype(bool)"
   ]
  },
  {
   "cell_type": "code",
   "execution_count": 3,
   "metadata": {
    "collapsed": true
   },
   "outputs": [],
   "source": [
    "def plot_array(arr, figsize=(5,5)):\n",
    "    plt.figure(figsize=figsize)\n",
    "    plt.imshow(arr, cmap='Greys',  interpolation='nearest')\n",
    "    plt.axis('on')\n",
    "    plt.show()"
   ]
  },
  {
   "cell_type": "code",
   "execution_count": 4,
   "metadata": {
    "collapsed": true
   },
   "outputs": [],
   "source": [
    "data = load_bool_image()\n",
    "skel = medial_axis(data)"
   ]
  },
  {
   "cell_type": "code",
   "execution_count": 5,
   "metadata": {},
   "outputs": [
    {
     "data": {
      "image/png": "[encoded data removed]",
      "text/plain": [
       "<matplotlib.figure.Figure at 0x1142f9908>"
      ]
     },
     "metadata": {},
     "output_type": "display_data"
    }
   ],
   "source": [
    "plot_array(skel)"
   ]
  },
  {
   "cell_type": "code",
   "execution_count": 6,
   "metadata": {
    "collapsed": true
   },
   "outputs": [],
   "source": [
    "# 端点抽出\n",
    "from scipy import ndimage\n",
    "\n",
    "def get_end_points(arr):\n",
    "    kernel = np.array([[1,1,1],\n",
    "                       [1,10,1],\n",
    "                       [1,1,1]])\n",
    "    filtered = ndimage.convolve(arr.astype(np.float32),\n",
    "                                kernel, mode='constant', cval=0.0)\n",
    "    \n",
    "    out = np.zeros_like(skel)\n",
    "    out[np.where(filtered==11)] = 1\n",
    "    \n",
    "    return out"
   ]
  },
  {
   "cell_type": "code",
   "execution_count": 7,
   "metadata": {},
   "outputs": [
    {
     "data": {
      "image/png": "[encoded data removed]",
      "text/plain": [
       "<matplotlib.figure.Figure at 0x1143d38d0>"
      ]
     },
     "metadata": {},
     "output_type": "display_data"
    }
   ],
   "source": [
    "end_points = get_end_points(skel)\n",
    "plot_array(end_points)"
   ]
  },
  {
   "cell_type": "code",
   "execution_count": 8,
   "metadata": {
    "collapsed": true
   },
   "outputs": [],
   "source": [
    "def is_next_coord(bin_im, scan_coord, exc_coord):\n",
    "    if np.array_equal(bin_im[scan_coord[0], scan_coord[1]], True):\n",
    "        if not np.array_equal(scan_coord, exc_coord):\n",
    "            return True\n",
    "    else:\n",
    "        return False\n",
    "\n",
    "def get_next_coord(skel_im, prev_coord, curr_coord):\n",
    "    left = [curr_coord[0], curr_coord[1]-1]\n",
    "    if is_next_coord(skel_im, left, prev_coord):\n",
    "        return left\n",
    "    \n",
    "    upper_left = [curr_coord[0]-1, curr_coord[1]-1]\n",
    "    if is_next_coord(skel_im, upper_left, prev_coord):\n",
    "        return upper_left\n",
    "    \n",
    "    upper = [curr_coord[0]-1, curr_coord[1]]\n",
    "    if is_next_coord(skel_im, upper, prev_coord):\n",
    "        return upper\n",
    "    \n",
    "    upper_right = [curr_coord[0]-1, curr_coord[1]+1]\n",
    "    if is_next_coord(skel_im, upper_right, prev_coord):\n",
    "        return upper_right\n",
    "    \n",
    "    right = [curr_coord[0], curr_coord[1]+1]\n",
    "    if is_next_coord(skel_im, right, prev_coord):\n",
    "        return right\n",
    "    \n",
    "    lower_right = [curr_coord[0]+1, curr_coord[1]+1]\n",
    "    if is_next_coord(skel_im, lower_right, prev_coord):\n",
    "        return lower_right\n",
    "    \n",
    "    lower = [curr_coord[0]+1, curr_coord[1]]\n",
    "    if is_next_coord(skel_im, lower, prev_coord):\n",
    "        return lower\n",
    "    \n",
    "    lower_left = [curr_coord[0]+1, curr_coord[1]-1]\n",
    "    if is_next_coord(skel_im, lower_left, prev_coord):\n",
    "        return lower_left\n",
    "    "
   ]
  },
  {
   "cell_type": "code",
   "execution_count": 9,
   "metadata": {},
   "outputs": [
    {
     "name": "stdout",
     "output_type": "stream",
     "text": [
      "Start\t [47 19]\n",
      "Goal\t [103  35]\n"
     ]
    }
   ],
   "source": [
    "# Start と Goal 座標を取得\n",
    "start_coord, goal_coord = np.argwhere(end_points)\n",
    "print('Start\\t', start_coord)\n",
    "print('Goal\\t', goal_coord)"
   ]
  },
  {
   "cell_type": "code",
   "execution_count": 10,
   "metadata": {
    "collapsed": true
   },
   "outputs": [],
   "source": [
    "import copy\n",
    "\n",
    "def get_medial_axis_coord_list(start_coord, goal_coord, loop_limit=1000):\n",
    "    '''\n",
    "    loop_limit: エラーの時、無限ループ防ぐため\n",
    "    '''\n",
    "    \n",
    "    medial_axis_coord_list = [start_coord.tolist()]\n",
    "    prev_coord = np.zeros(2)\n",
    "    curr_coord = copy.deepcopy(start_coord)\n",
    "\n",
    "    count = 0\n",
    "    while not np.array_equal(curr_coord, goal_coord):\n",
    "        count+=1\n",
    "        if count > loop_limit:\n",
    "            break\n",
    "\n",
    "        candidate_coord = get_next_coord(skel, prev_coord, curr_coord)\n",
    "        prev_coord = copy.deepcopy(curr_coord)\n",
    "        curr_coord = copy.deepcopy(candidate_coord)\n",
    "        medial_axis_coord_list.append(curr_coord)\n",
    "    \n",
    "    return np.array(medial_axis_coord_list)\n"
   ]
  },
  {
   "cell_type": "code",
   "execution_count": 11,
   "metadata": {},
   "outputs": [
    {
     "name": "stdout",
     "output_type": "stream",
     "text": [
      "[[ 47  19]\n",
      " [ 46  19]\n",
      " [ 45  20]\n",
      " [ 44  21]\n",
      " [ 43  22]\n",
      " [ 42  23]\n",
      " [ 41  23]\n",
      " [ 40  24]\n",
      " [ 39  25]\n",
      " [ 38  26]\n",
      " [ 37  27]\n",
      " [ 36  28]\n",
      " [ 35  29]\n",
      " [ 34  30]\n",
      " [ 34  31]\n",
      " [ 33  32]\n",
      " [ 33  33]\n",
      " [ 32  34]\n",
      " [ 32  35]\n",
      " [ 31  36]\n",
      " [ 31  37]\n",
      " [ 31  38]\n",
      " [ 31  39]\n",
      " [ 31  40]\n",
      " [ 30  41]\n",
      " [ 30  42]\n",
      " [ 30  43]\n",
      " [ 30  44]\n",
      " [ 30  45]\n",
      " [ 30  46]\n",
      " [ 30  47]\n",
      " [ 30  48]\n",
      " [ 30  49]\n",
      " [ 30  50]\n",
      " [ 30  51]\n",
      " [ 30  52]\n",
      " [ 30  53]\n",
      " [ 30  54]\n",
      " [ 30  55]\n",
      " [ 30  56]\n",
      " [ 30  57]\n",
      " [ 30  58]\n",
      " [ 30  59]\n",
      " [ 30  60]\n",
      " [ 30  61]\n",
      " [ 30  62]\n",
      " [ 30  63]\n",
      " [ 30  64]\n",
      " [ 30  65]\n",
      " [ 30  66]\n",
      " [ 30  67]\n",
      " [ 30  68]\n",
      " [ 30  69]\n",
      " [ 30  70]\n",
      " [ 30  71]\n",
      " [ 30  72]\n",
      " [ 31  73]\n",
      " [ 31  74]\n",
      " [ 31  75]\n",
      " [ 32  76]\n",
      " [ 33  77]\n",
      " [ 34  78]\n",
      " [ 35  79]\n",
      " [ 36  80]\n",
      " [ 37  81]\n",
      " [ 38  81]\n",
      " [ 39  82]\n",
      " [ 40  82]\n",
      " [ 41  83]\n",
      " [ 42  83]\n",
      " [ 43  83]\n",
      " [ 44  84]\n",
      " [ 45  84]\n",
      " [ 46  84]\n",
      " [ 47  84]\n",
      " [ 48  84]\n",
      " [ 49  84]\n",
      " [ 50  84]\n",
      " [ 51  84]\n",
      " [ 52  84]\n",
      " [ 53  84]\n",
      " [ 54  84]\n",
      " [ 55  84]\n",
      " [ 56  83]\n",
      " [ 57  83]\n",
      " [ 58  82]\n",
      " [ 59  82]\n",
      " [ 60  81]\n",
      " [ 61  81]\n",
      " [ 62  80]\n",
      " [ 63  80]\n",
      " [ 64  79]\n",
      " [ 65  79]\n",
      " [ 66  78]\n",
      " [ 67  78]\n",
      " [ 68  77]\n",
      " [ 69  77]\n",
      " [ 70  76]\n",
      " [ 71  75]\n",
      " [ 72  74]\n",
      " [ 73  74]\n",
      " [ 74  73]\n",
      " [ 75  72]\n",
      " [ 76  72]\n",
      " [ 77  71]\n",
      " [ 78  71]\n",
      " [ 79  70]\n",
      " [ 80  69]\n",
      " [ 81  69]\n",
      " [ 82  68]\n",
      " [ 83  67]\n",
      " [ 84  66]\n",
      " [ 85  65]\n",
      " [ 86  64]\n",
      " [ 87  63]\n",
      " [ 88  62]\n",
      " [ 89  61]\n",
      " [ 90  60]\n",
      " [ 91  59]\n",
      " [ 92  59]\n",
      " [ 93  58]\n",
      " [ 94  57]\n",
      " [ 95  56]\n",
      " [ 96  55]\n",
      " [ 96  54]\n",
      " [ 97  53]\n",
      " [ 97  52]\n",
      " [ 98  51]\n",
      " [ 99  50]\n",
      " [ 99  49]\n",
      " [100  48]\n",
      " [100  47]\n",
      " [101  46]\n",
      " [102  45]\n",
      " [102  44]\n",
      " [102  43]\n",
      " [103  42]\n",
      " [103  41]\n",
      " [103  40]\n",
      " [103  39]\n",
      " [103  38]\n",
      " [103  37]\n",
      " [103  36]\n",
      " [103  35]]\n"
     ]
    }
   ],
   "source": [
    "medial_axis_coord_list = get_medial_axis_coord_list(start_coord, goal_coord)\n",
    "print(medial_axis_coord_list)"
   ]
  },
  {
   "cell_type": "code",
   "execution_count": null,
   "metadata": {
    "collapsed": true
   },
   "outputs": [],
   "source": []
  }
 ],
 "metadata": {
  "kernelspec": {
   "display_name": "Python 3",
   "language": "python",
   "name": "python3"
  },
  "language_info": {
   "codemirror_mode": {
    "name": "ipython",
    "version": 3
   },
   "file_extension": ".py",
   "mimetype": "text/x-python",
   "name": "python",
   "nbconvert_exporter": "python",
   "pygments_lexer": "ipython3",
   "version": "3.5.3"
  }
 },
 "nbformat": 4,
 "nbformat_minor": 2
}
