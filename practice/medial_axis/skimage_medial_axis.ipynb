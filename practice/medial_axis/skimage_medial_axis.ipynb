{
 "cells": [
  {
   "cell_type": "markdown",
   "metadata": {},
   "source": [
    "## Medial axis のアルゴリズムイメージ\n",
    "<img src=\"http://homepages.inf.ed.ac.uk/rbf/HIPR2/figs/bitanmed.gif\">"
   ]
  },
  {
   "cell_type": "code",
   "execution_count": 1,
   "metadata": {
    "collapsed": true
   },
   "outputs": [],
   "source": [
    "# Document\n",
    "# http://scikit-image.org/docs/dev/api/skimage.morphology.html?highlight=medial_axis#skimage.morphology.medial_axis\n",
    "\n",
    "# Sample code\n",
    "# http://scikit-image.org/docs/0.10.x/auto_examples/plot_medial_transform.html\n",
    "\n",
    "%matplotlib inline\n",
    "import numpy as np\n",
    "from scipy import ndimage\n",
    "from skimage.morphology import medial_axis\n",
    "from skimage.filters import gaussian\n",
    "import matplotlib.pyplot as plt"
   ]
  },
  {
   "cell_type": "code",
   "execution_count": 2,
   "metadata": {
    "collapsed": true
   },
   "outputs": [],
   "source": [
    "from PIL import Image"
   ]
  },
  {
   "cell_type": "code",
   "execution_count": 3,
   "metadata": {
    "collapsed": true
   },
   "outputs": [],
   "source": [
    "# ランダムな２値画像生成\n",
    "def microstructure(l=256, rs=1):\n",
    "    \"\"\"\n",
    "    Synthetic binary data: binary microstructure with blobs.\n",
    "\n",
    "    Parameters\n",
    "    ----------\n",
    "\n",
    "    l: int, optional\n",
    "        linear size of the returned image\n",
    "\n",
    "    \"\"\"\n",
    "    n = 5\n",
    "    x, y = np.ogrid[0:l, 0:l]\n",
    "    mask_outer = (x - l/2)**2 + (y - l/2)**2 < (l/2)**2\n",
    "    mask = np.zeros((l, l))\n",
    "    generator = np.random.RandomState(rs)\n",
    "    points = l * generator.rand(2, n**2)\n",
    "    mask[(points[0]).astype(np.int), (points[1]).astype(np.int)] = 1\n",
    "    mask = ndimage.gaussian_filter(mask, sigma=l/(4.*n))\n",
    "    return mask > mask.mean()\n",
    "\n",
    "data = microstructure(l=128, rs=5)"
   ]
  },
  {
   "cell_type": "code",
   "execution_count": 4,
   "metadata": {
    "collapsed": true
   },
   "outputs": [],
   "source": [
    "# 画像読み込み\n",
    "im = Image.open('./stroke.png')\n",
    "gray_im = im.convert('L')\n",
    "arr = np.asarray(gray_im)\n",
    "#arr = arr.reshape((128*128))\n",
    "arr.flags.writeable = True\n",
    "arr[arr!=255]=True\n",
    "arr[arr==255]=False\n",
    "\n",
    "data = arr.astype(bool)"
   ]
  },
  {
   "cell_type": "code",
   "execution_count": 5,
   "metadata": {
    "collapsed": true
   },
   "outputs": [],
   "source": [
    "def plot_medial_axis(skel, distance, show_distance=True):\n",
    "    # Distance to the background for pixels of the skeleton\n",
    "    if(show_distance):\n",
    "        dist_on_skel = distance * skel\n",
    "    else:\n",
    "        dist_on_skel = skel\n",
    "\n",
    "    fig, (ax1, ax2) = plt.subplots(1, 2, figsize=(8, 4))\n",
    "    ax1.imshow(data, cmap=plt.cm.gray, interpolation='nearest')\n",
    "    ax1.axis('off')\n",
    "    ax2.imshow(dist_on_skel, cmap=plt.cm.spectral, interpolation='nearest')\n",
    "    ax2.contour(data, [0.5], colors='w')\n",
    "    ax2.axis('off')\n",
    "\n",
    "    fig.subplots_adjust(hspace=0.01, wspace=0.01, top=1, bottom=0, left=0, right=1)\n",
    "    plt.show()"
   ]
  },
  {
   "cell_type": "code",
   "execution_count": 6,
   "metadata": {
    "collapsed": true
   },
   "outputs": [],
   "source": [
    "# Compute the medial axis (skeleton) and the distance transform\n",
    "# distance transform: 輪郭からの距離が長くなると濃くなる\n",
    "skel, distance = medial_axis(data, return_distance=True)"
   ]
  },
  {
   "cell_type": "markdown",
   "metadata": {},
   "source": [
    "- ストロークの先端が細い場合はMedial axisが端までいく\n",
    "- 四角だと分岐する"
   ]
  },
  {
   "cell_type": "code",
   "execution_count": 7,
   "metadata": {},
   "outputs": [
    {
     "data": {
      "image/png": "[encoded data removed]",
      "text/plain": [
       "<matplotlib.figure.Figure at 0x1127db908>"
      ]
     },
     "metadata": {},
     "output_type": "display_data"
    }
   ],
   "source": [
    "plt.figure(figsize = (20,20))\n",
    "plt.imshow(skel , cmap='Greys',  interpolation='nearest')\n",
    "plt.axis('off')\n",
    "plt.show()"
   ]
  },
  {
   "cell_type": "code",
   "execution_count": 8,
   "metadata": {},
   "outputs": [
    {
     "data": {
      "image/png": "[encoded data removed]",
      "text/plain": [
       "<matplotlib.figure.Figure at 0x112886ac8>"
      ]
     },
     "metadata": {},
     "output_type": "display_data"
    }
   ],
   "source": [
    "plot_medial_axis(skel, distance, show_distance=False)"
   ]
  },
  {
   "cell_type": "code",
   "execution_count": 9,
   "metadata": {},
   "outputs": [
    {
     "data": {
      "text/plain": [
       "array([[ 14, 111],\n",
       "       [ 15, 104],\n",
       "       [ 15, 110],\n",
       "       [ 16, 105],\n",
       "       [ 16, 109],\n",
       "       [ 17, 106],\n",
       "       [ 17, 108],\n",
       "       [ 18, 107],\n",
       "       [ 19, 107],\n",
       "       [ 20, 107],\n",
       "       [ 21, 107],\n",
       "       [ 22, 107],\n",
       "       [ 23, 107],\n",
       "       [ 24, 106],\n",
       "       [ 25, 107],\n",
       "       [ 26, 106],\n",
       "       [ 27, 106],\n",
       "       [ 28, 107],\n",
       "       [ 29, 107],\n",
       "       [ 30,  41],\n",
       "       [ 30,  42],\n",
       "       [ 30,  43],\n",
       "       [ 30,  44],\n",
       "       [ 30,  45],\n",
       "       [ 30,  46],\n",
       "       [ 30,  47],\n",
       "       [ 30,  48],\n",
       "       [ 30,  49],\n",
       "       [ 30,  50],\n",
       "       [ 30,  51],\n",
       "       [ 30,  52],\n",
       "       [ 30,  53],\n",
       "       [ 30,  54],\n",
       "       [ 30,  55],\n",
       "       [ 30,  56],\n",
       "       [ 30,  57],\n",
       "       [ 30,  58],\n",
       "       [ 30,  59],\n",
       "       [ 30,  60],\n",
       "       [ 30,  61],\n",
       "       [ 30,  62],\n",
       "       [ 30,  63],\n",
       "       [ 30,  64],\n",
       "       [ 30,  65],\n",
       "       [ 30,  66],\n",
       "       [ 30,  67],\n",
       "       [ 30,  68],\n",
       "       [ 30,  69],\n",
       "       [ 30,  70],\n",
       "       [ 30,  71],\n",
       "       [ 30,  72],\n",
       "       [ 30, 107],\n",
       "       [ 31,  36],\n",
       "       [ 31,  37],\n",
       "       [ 31,  38],\n",
       "       [ 31,  39],\n",
       "       [ 31,  40],\n",
       "       [ 31,  73],\n",
       "       [ 31,  74],\n",
       "       [ 31, 106],\n",
       "       [ 32,  33],\n",
       "       [ 32,  34],\n",
       "       [ 32,  35],\n",
       "       [ 32,  75],\n",
       "       [ 32,  76],\n",
       "       [ 32, 107],\n",
       "       [ 33,  32],\n",
       "       [ 33,  77],\n",
       "       [ 33, 107],\n",
       "       [ 34,  30],\n",
       "       [ 34,  31],\n",
       "       [ 34,  78],\n",
       "       [ 34, 107],\n",
       "       [ 35,  29],\n",
       "       [ 35,  79],\n",
       "       [ 35, 107],\n",
       "       [ 36,  28],\n",
       "       [ 36,  80],\n",
       "       [ 36, 107],\n",
       "       [ 37,  27],\n",
       "       [ 37,  81],\n",
       "       [ 37, 107],\n",
       "       [ 38,  26],\n",
       "       [ 38,  81],\n",
       "       [ 38, 107],\n",
       "       [ 39,  25],\n",
       "       [ 39,  82],\n",
       "       [ 39, 106],\n",
       "       [ 39, 108],\n",
       "       [ 40,  24],\n",
       "       [ 40,  82],\n",
       "       [ 40, 105],\n",
       "       [ 40, 109],\n",
       "       [ 41,  23],\n",
       "       [ 41,  82],\n",
       "       [ 41, 104],\n",
       "       [ 41, 110],\n",
       "       [ 42,  22],\n",
       "       [ 42,  83],\n",
       "       [ 42, 111],\n",
       "       [ 43,  22],\n",
       "       [ 43,  83],\n",
       "       [ 43, 112],\n",
       "       [ 44,  20],\n",
       "       [ 44,  21],\n",
       "       [ 44,  84],\n",
       "       [ 44, 113],\n",
       "       [ 45,  19],\n",
       "       [ 45,  84],\n",
       "       [ 46,  19],\n",
       "       [ 46,  84],\n",
       "       [ 47,  19],\n",
       "       [ 47,  84],\n",
       "       [ 48,  84],\n",
       "       [ 49,  84],\n",
       "       [ 50,  84],\n",
       "       [ 51,  84],\n",
       "       [ 52,  84],\n",
       "       [ 53,  84],\n",
       "       [ 54,  84],\n",
       "       [ 55,  84],\n",
       "       [ 56,  83],\n",
       "       [ 57,  83],\n",
       "       [ 58,  82],\n",
       "       [ 59,  82],\n",
       "       [ 59, 107],\n",
       "       [ 60,  81],\n",
       "       [ 60, 107],\n",
       "       [ 61,  81],\n",
       "       [ 61, 107],\n",
       "       [ 62,  80],\n",
       "       [ 62, 107],\n",
       "       [ 63,  80],\n",
       "       [ 63, 107],\n",
       "       [ 64,  79],\n",
       "       [ 64, 107],\n",
       "       [ 65,  79],\n",
       "       [ 65, 107],\n",
       "       [ 66,  78],\n",
       "       [ 66, 107],\n",
       "       [ 67,  78],\n",
       "       [ 67, 107],\n",
       "       [ 68,  77],\n",
       "       [ 68, 107],\n",
       "       [ 69,  77],\n",
       "       [ 69, 107],\n",
       "       [ 70,  76],\n",
       "       [ 70, 107],\n",
       "       [ 71,  75],\n",
       "       [ 71, 107],\n",
       "       [ 72,  74],\n",
       "       [ 72, 107],\n",
       "       [ 73,  74],\n",
       "       [ 73, 107],\n",
       "       [ 74,  73],\n",
       "       [ 74, 107],\n",
       "       [ 75,  72],\n",
       "       [ 75, 107],\n",
       "       [ 76,  72],\n",
       "       [ 76, 107],\n",
       "       [ 77,  71],\n",
       "       [ 77, 107],\n",
       "       [ 78,  71],\n",
       "       [ 78, 107],\n",
       "       [ 79,  70],\n",
       "       [ 79, 107],\n",
       "       [ 80,  69],\n",
       "       [ 80, 107],\n",
       "       [ 81,  69],\n",
       "       [ 81, 107],\n",
       "       [ 82,  68],\n",
       "       [ 82, 107],\n",
       "       [ 83,  67],\n",
       "       [ 83, 107],\n",
       "       [ 84,  66],\n",
       "       [ 84, 107],\n",
       "       [ 85,  65],\n",
       "       [ 85, 107],\n",
       "       [ 86,  64],\n",
       "       [ 86, 107],\n",
       "       [ 87,  63],\n",
       "       [ 87, 107],\n",
       "       [ 88,  62],\n",
       "       [ 88, 107],\n",
       "       [ 89,  61],\n",
       "       [ 89, 107],\n",
       "       [ 90,  60],\n",
       "       [ 90, 107],\n",
       "       [ 91,  59],\n",
       "       [ 91, 106],\n",
       "       [ 92,  58],\n",
       "       [ 92, 106],\n",
       "       [ 93,  58],\n",
       "       [ 93, 106],\n",
       "       [ 94,  57],\n",
       "       [ 94, 106],\n",
       "       [ 95,  56],\n",
       "       [ 95, 106],\n",
       "       [ 96,  54],\n",
       "       [ 96,  55],\n",
       "       [ 96, 106],\n",
       "       [ 97,  52],\n",
       "       [ 97,  53],\n",
       "       [ 97, 106],\n",
       "       [ 98,  51],\n",
       "       [ 98, 106],\n",
       "       [ 99,  49],\n",
       "       [ 99,  50],\n",
       "       [ 99, 106],\n",
       "       [100,  47],\n",
       "       [100,  48],\n",
       "       [100, 106],\n",
       "       [101,  46],\n",
       "       [101, 106],\n",
       "       [102,  43],\n",
       "       [102,  44],\n",
       "       [102,  45],\n",
       "       [102, 106],\n",
       "       [103,  35],\n",
       "       [103,  36],\n",
       "       [103,  37],\n",
       "       [103,  38],\n",
       "       [103,  39],\n",
       "       [103,  40],\n",
       "       [103,  41],\n",
       "       [103,  42],\n",
       "       [103, 106],\n",
       "       [104, 106],\n",
       "       [105, 106],\n",
       "       [106, 106],\n",
       "       [107, 106],\n",
       "       [108, 107],\n",
       "       [109, 107],\n",
       "       [110, 107],\n",
       "       [111, 107],\n",
       "       [112, 107],\n",
       "       [113, 107],\n",
       "       [114, 107]])"
      ]
     },
     "execution_count": 9,
     "metadata": {},
     "output_type": "execute_result"
    }
   ],
   "source": [
    "# Medial axis を座標に変換\n",
    "np.argwhere(skel)"
   ]
  },
  {
   "cell_type": "code",
   "execution_count": null,
   "metadata": {
    "collapsed": true
   },
   "outputs": [],
   "source": []
  }
 ],
 "metadata": {
  "kernelspec": {
   "display_name": "Python 3",
   "language": "python",
   "name": "python3"
  },
  "language_info": {
   "codemirror_mode": {
    "name": "ipython",
    "version": 3
   },
   "file_extension": ".py",
   "mimetype": "text/x-python",
   "name": "python",
   "nbconvert_exporter": "python",
   "pygments_lexer": "ipython3",
   "version": "3.5.3"
  }
 },
 "nbformat": 4,
 "nbformat_minor": 2
}
